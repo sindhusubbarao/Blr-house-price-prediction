{
 "cells": [
  {
   "cell_type": "code",
   "execution_count": 13,
   "id": "ad93aced",
   "metadata": {},
   "outputs": [],
   "source": [
    "import pandas as pd\n",
    "import gradio as gr\n",
    "import os\n",
    "import pickle\n",
    "import warnings\n",
    "warnings.filterwarnings('ignore')"
   ]
  },
  {
   "cell_type": "code",
   "execution_count": 5,
   "id": "d68e25e1",
   "metadata": {},
   "outputs": [],
   "source": [
    "# Function to load machine learning components\n",
    "def load_components_func(fp):\n",
    "    # To load the machine learning components saved to re-use in the app\n",
    "    with open('Model_Linear_Regression.pkl','rb') as file:\n",
    "        trained_model = pickle.load(file)\n",
    "    return object"
   ]
  },
  {
   "cell_type": "code",
   "execution_count": 10,
   "id": "e5f4be69",
   "metadata": {},
   "outputs": [],
   "source": [
    "#Load the trained model in this notebook\n",
    "\n",
    "with open('Model_Linear_Regression.pkl','rb') as file:\n",
    "    trained_model = pickle.load(file)"
   ]
  },
  {
   "cell_type": "code",
   "execution_count": 11,
   "id": "e80e1e65",
   "metadata": {},
   "outputs": [],
   "source": [
    "#Lets create a function to make the prediction\n",
    "\n",
    "def make_prediction(location, size, total_sqft, bath, balcony,area_type_Carpet_Area, area_type_Plot_Area,\n",
    "                    area_type_Super_built_up_Area,\n",
    "                    availability_Under_Construction):\n",
    "    input_data = [[location, size, total_sqft, bath, balcony,area_type_Carpet_Area, area_type_Plot_Area,\n",
    "                    area_type_Super_built_up_Area,\n",
    "                    availability_Under_Construction]]\n",
    "    prediction = trained_model.predict(input_data)\n",
    "    \n",
    "    return round(prediction[0],2)\n",
    "    "
   ]
  },
  {
   "cell_type": "code",
   "execution_count": 14,
   "id": "81f99963",
   "metadata": {},
   "outputs": [
    {
     "data": {
      "text/plain": [
       "104.41"
      ]
     },
     "execution_count": 14,
     "metadata": {},
     "output_type": "execute_result"
    }
   ],
   "source": [
    "#Checking the function\n",
    "make_prediction(0,4,1700,2,2,1,0,1,1)"
   ]
  },
  {
   "cell_type": "code",
   "execution_count": 16,
   "id": "7bf94cae",
   "metadata": {},
   "outputs": [],
   "source": [
    "#Lets make a frontend\n",
    "\n",
    "iface = gr.Interface(fn = make_prediction,\n",
    "                    inputs=[gr.Dropdown([('Top 10',1),('Others',0)],label='Location'),\n",
    "                            gr.Number(label = 'Size/BHK'),\n",
    "                            gr.Number(label = 'Area in sft'),\n",
    "                            gr.Number(label = 'How many Bathroom'),\n",
    "                            gr.Number(label = 'How many Balcony'),\n",
    "                            gr.Dropdown([('Yes',1),('No',0)],label='Is it a Carpet Area?'),\n",
    "                            gr.Dropdown([('Yes',1),('No',0)],label='Is it a Plot Area?'),\n",
    "                            gr.Dropdown([('Yes',1),('No',0)],label='Is it a Super built-up Area?'),\n",
    "                            gr.Dropdown([('Ready To Move',0),('Under Construction',1)],label='Availibility')],\n",
    "                    outputs = gr.Textbox(label = 'Expected price of the property'),\n",
    "                     title = 'ABC Properties',\n",
    "                    description = 'Enter Details to get the expected value of the property',\n",
    "                    allow_flagging = False)"
   ]
  },
  {
   "cell_type": "code",
   "execution_count": null,
   "id": "88c0a9c8",
   "metadata": {},
   "outputs": [],
   "source": [
    "#,"
   ]
  },
  {
   "cell_type": "code",
   "execution_count": 18,
   "id": "ea6f3f06",
   "metadata": {},
   "outputs": [
    {
     "name": "stdout",
     "output_type": "stream",
     "text": [
      "Running on local URL:  http://127.0.0.1:7860\n",
      "\n",
      "To create a public link, set `share=True` in `launch()`.\n"
     ]
    },
    {
     "data": {
      "text/html": [
       "<div><iframe src=\"http://127.0.0.1:7860/\" width=\"100%\" height=\"500\" allow=\"autoplay; camera; microphone; clipboard-read; clipboard-write;\" frameborder=\"0\" allowfullscreen></iframe></div>"
      ],
      "text/plain": [
       "<IPython.core.display.HTML object>"
      ]
     },
     "metadata": {},
     "output_type": "display_data"
    },
    {
     "data": {
      "text/plain": []
     },
     "execution_count": 18,
     "metadata": {},
     "output_type": "execute_result"
    }
   ],
   "source": [
    "iface.launch()"
   ]
  },
  {
   "cell_type": "code",
   "execution_count": null,
   "id": "092b158e",
   "metadata": {},
   "outputs": [],
   "source": []
  }
 ],
 "metadata": {
  "kernelspec": {
   "display_name": "Python 3 (ipykernel)",
   "language": "python",
   "name": "python3"
  },
  "language_info": {
   "codemirror_mode": {
    "name": "ipython",
    "version": 3
   },
   "file_extension": ".py",
   "mimetype": "text/x-python",
   "name": "python",
   "nbconvert_exporter": "python",
   "pygments_lexer": "ipython3",
   "version": "3.11.5"
  }
 },
 "nbformat": 4,
 "nbformat_minor": 5
}
